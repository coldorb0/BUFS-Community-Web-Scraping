{
  "nbformat": 4,
  "nbformat_minor": 0,
  "metadata": {
    "colab": {
      "name": "공지·안내.ipynb",
      "provenance": [],
      "collapsed_sections": [],
      "include_colab_link": true
    },
    "kernelspec": {
      "name": "python3",
      "display_name": "Python 3"
    }
  },
  "cells": [
    {
      "cell_type": "markdown",
      "metadata": {
        "id": "view-in-github",
        "colab_type": "text"
      },
      "source": [
        "<a href=\"https://colab.research.google.com/github/fireorb/BUFS-Community-Web-Scraping/blob/master/information.ipynb\" target=\"_parent\"><img src=\"https://colab.research.google.com/assets/colab-badge.svg\" alt=\"Open In Colab\"/></a>"
      ]
    },
    {
      "cell_type": "code",
      "metadata": {
        "id": "T7v_K1bAgNtJ",
        "colab": {
          "base_uri": "https://localhost:8080/"
        },
        "outputId": "91e55363-9487-42db-c7e6-1d4d99c5778f"
      },
      "source": [
        "import sys\n",
        "\n",
        "# install chromium, its driver, and selenium\n",
        "if 'google.colab' in sys.modules:\n",
        "    !apt-get update\n",
        "    !apt install chromium-chromedriver\n",
        "    !cp /usr/lib/chromium-browser/chromedriver /usr/bin\n",
        "    !pip install selenium\n",
        "\n",
        "# set options to be headless, ..\n",
        "from selenium import webdriver\n",
        "from selenium.webdriver.common.by import By\n",
        "from selenium.webdriver.support.ui import WebDriverWait\n",
        "from selenium.webdriver.support import expected_conditions as EC\n",
        "\n",
        "from bs4 import BeautifulSoup\n",
        "import re\n",
        "\n",
        "if 'ipykernel' in sys.modules:\n",
        "    from tqdm import tqdm_notebook as tqdm\n",
        "else:\n",
        "    from tqdm import tqdm"
      ],
      "execution_count": null,
      "outputs": [
        {
          "output_type": "stream",
          "name": "stdout",
          "text": [
            "Ign:1 https://developer.download.nvidia.com/compute/cuda/repos/ubuntu1804/x86_64  InRelease\n",
            "Get:2 https://cloud.r-project.org/bin/linux/ubuntu bionic-cran40/ InRelease [3,626 B]\n",
            "Get:3 http://ppa.launchpad.net/c2d4u.team/c2d4u4.0+/ubuntu bionic InRelease [15.9 kB]\n",
            "Get:4 http://security.ubuntu.com/ubuntu bionic-security InRelease [88.7 kB]\n",
            "Hit:5 http://archive.ubuntu.com/ubuntu bionic InRelease\n",
            "Ign:6 https://developer.download.nvidia.com/compute/machine-learning/repos/ubuntu1804/x86_64  InRelease\n",
            "Get:7 https://developer.download.nvidia.com/compute/cuda/repos/ubuntu1804/x86_64  Release [696 B]\n",
            "Hit:8 https://developer.download.nvidia.com/compute/machine-learning/repos/ubuntu1804/x86_64  Release\n",
            "Get:9 https://developer.download.nvidia.com/compute/cuda/repos/ubuntu1804/x86_64  Release.gpg [836 B]\n",
            "Get:10 http://archive.ubuntu.com/ubuntu bionic-updates InRelease [88.7 kB]\n",
            "Hit:11 http://ppa.launchpad.net/cran/libgit2/ubuntu bionic InRelease\n",
            "Get:12 http://archive.ubuntu.com/ubuntu bionic-backports InRelease [74.6 kB]\n",
            "Hit:13 http://ppa.launchpad.net/deadsnakes/ppa/ubuntu bionic InRelease\n",
            "Hit:14 http://ppa.launchpad.net/graphics-drivers/ppa/ubuntu bionic InRelease\n",
            "Get:16 https://developer.download.nvidia.com/compute/cuda/repos/ubuntu1804/x86_64  Packages [828 kB]\n",
            "Get:17 http://ppa.launchpad.net/c2d4u.team/c2d4u4.0+/ubuntu bionic/main Sources [1,813 kB]\n",
            "Get:18 http://security.ubuntu.com/ubuntu bionic-security/main amd64 Packages [2,430 kB]\n",
            "Get:19 http://archive.ubuntu.com/ubuntu bionic-updates/main amd64 Packages [2,867 kB]\n",
            "Get:20 http://security.ubuntu.com/ubuntu bionic-security/universe amd64 Packages [1,442 kB]\n",
            "Get:21 http://ppa.launchpad.net/c2d4u.team/c2d4u4.0+/ubuntu bionic/main amd64 Packages [928 kB]\n",
            "Get:22 http://archive.ubuntu.com/ubuntu bionic-updates/universe amd64 Packages [2,222 kB]\n",
            "Fetched 12.8 MB in 3s (3,821 kB/s)\n",
            "Reading package lists... Done\n",
            "Reading package lists... Done\n",
            "Building dependency tree       \n",
            "Reading state information... Done\n",
            "The following additional packages will be installed:\n",
            "  chromium-browser chromium-browser-l10n chromium-codecs-ffmpeg-extra\n",
            "Suggested packages:\n",
            "  webaccounts-chromium-extension unity-chromium-extension\n",
            "The following NEW packages will be installed:\n",
            "  chromium-browser chromium-browser-l10n chromium-chromedriver\n",
            "  chromium-codecs-ffmpeg-extra\n",
            "0 upgraded, 4 newly installed, 0 to remove and 39 not upgraded.\n",
            "Need to get 94.0 MB of archives.\n",
            "After this operation, 324 MB of additional disk space will be used.\n",
            "Get:1 http://archive.ubuntu.com/ubuntu bionic-updates/universe amd64 chromium-codecs-ffmpeg-extra amd64 95.0.4638.69-0ubuntu0.18.04.1 [1,135 kB]\n",
            "Get:2 http://archive.ubuntu.com/ubuntu bionic-updates/universe amd64 chromium-browser amd64 95.0.4638.69-0ubuntu0.18.04.1 [83.6 MB]\n",
            "Get:3 http://archive.ubuntu.com/ubuntu bionic-updates/universe amd64 chromium-browser-l10n all 95.0.4638.69-0ubuntu0.18.04.1 [4,249 kB]\n",
            "Get:4 http://archive.ubuntu.com/ubuntu bionic-updates/universe amd64 chromium-chromedriver amd64 95.0.4638.69-0ubuntu0.18.04.1 [4,986 kB]\n",
            "Fetched 94.0 MB in 4s (23.6 MB/s)\n",
            "Selecting previously unselected package chromium-codecs-ffmpeg-extra.\n",
            "(Reading database ... 155222 files and directories currently installed.)\n",
            "Preparing to unpack .../chromium-codecs-ffmpeg-extra_95.0.4638.69-0ubuntu0.18.04.1_amd64.deb ...\n",
            "Unpacking chromium-codecs-ffmpeg-extra (95.0.4638.69-0ubuntu0.18.04.1) ...\n",
            "Selecting previously unselected package chromium-browser.\n",
            "Preparing to unpack .../chromium-browser_95.0.4638.69-0ubuntu0.18.04.1_amd64.deb ...\n",
            "Unpacking chromium-browser (95.0.4638.69-0ubuntu0.18.04.1) ...\n",
            "Selecting previously unselected package chromium-browser-l10n.\n",
            "Preparing to unpack .../chromium-browser-l10n_95.0.4638.69-0ubuntu0.18.04.1_all.deb ...\n",
            "Unpacking chromium-browser-l10n (95.0.4638.69-0ubuntu0.18.04.1) ...\n",
            "Selecting previously unselected package chromium-chromedriver.\n",
            "Preparing to unpack .../chromium-chromedriver_95.0.4638.69-0ubuntu0.18.04.1_amd64.deb ...\n",
            "Unpacking chromium-chromedriver (95.0.4638.69-0ubuntu0.18.04.1) ...\n",
            "Setting up chromium-codecs-ffmpeg-extra (95.0.4638.69-0ubuntu0.18.04.1) ...\n",
            "Setting up chromium-browser (95.0.4638.69-0ubuntu0.18.04.1) ...\n",
            "update-alternatives: using /usr/bin/chromium-browser to provide /usr/bin/x-www-browser (x-www-browser) in auto mode\n",
            "update-alternatives: using /usr/bin/chromium-browser to provide /usr/bin/gnome-www-browser (gnome-www-browser) in auto mode\n",
            "Setting up chromium-chromedriver (95.0.4638.69-0ubuntu0.18.04.1) ...\n",
            "Setting up chromium-browser-l10n (95.0.4638.69-0ubuntu0.18.04.1) ...\n",
            "Processing triggers for man-db (2.8.3-2ubuntu0.1) ...\n",
            "Processing triggers for hicolor-icon-theme (0.17-2) ...\n",
            "Processing triggers for mime-support (3.60ubuntu1) ...\n",
            "Processing triggers for libc-bin (2.27-3ubuntu1.3) ...\n",
            "/sbin/ldconfig.real: /usr/local/lib/python3.7/dist-packages/ideep4py/lib/libmkldnn.so.0 is not a symbolic link\n",
            "\n",
            "cp: '/usr/lib/chromium-browser/chromedriver' and '/usr/bin/chromedriver' are the same file\n",
            "Collecting selenium\n",
            "  Downloading selenium-4.1.0-py3-none-any.whl (958 kB)\n",
            "\u001b[K     |████████████████████████████████| 958 kB 5.0 MB/s \n",
            "\u001b[?25hCollecting trio-websocket~=0.9\n",
            "  Downloading trio_websocket-0.9.2-py3-none-any.whl (16 kB)\n",
            "Collecting urllib3[secure]~=1.26\n",
            "  Downloading urllib3-1.26.7-py2.py3-none-any.whl (138 kB)\n",
            "\u001b[K     |████████████████████████████████| 138 kB 56.2 MB/s \n",
            "\u001b[?25hCollecting trio~=0.17\n",
            "  Downloading trio-0.19.0-py3-none-any.whl (356 kB)\n",
            "\u001b[K     |████████████████████████████████| 356 kB 57.1 MB/s \n",
            "\u001b[?25hRequirement already satisfied: sortedcontainers in /usr/local/lib/python3.7/dist-packages (from trio~=0.17->selenium) (2.4.0)\n",
            "Requirement already satisfied: idna in /usr/local/lib/python3.7/dist-packages (from trio~=0.17->selenium) (2.10)\n",
            "Collecting async-generator>=1.9\n",
            "  Downloading async_generator-1.10-py3-none-any.whl (18 kB)\n",
            "Collecting sniffio\n",
            "  Downloading sniffio-1.2.0-py3-none-any.whl (10 kB)\n",
            "Requirement already satisfied: attrs>=19.2.0 in /usr/local/lib/python3.7/dist-packages (from trio~=0.17->selenium) (21.2.0)\n",
            "Collecting outcome\n",
            "  Downloading outcome-1.1.0-py2.py3-none-any.whl (9.7 kB)\n",
            "Collecting wsproto>=0.14\n",
            "  Downloading wsproto-1.0.0-py3-none-any.whl (24 kB)\n",
            "Requirement already satisfied: certifi in /usr/local/lib/python3.7/dist-packages (from urllib3[secure]~=1.26->selenium) (2021.10.8)\n",
            "Collecting pyOpenSSL>=0.14\n",
            "  Downloading pyOpenSSL-21.0.0-py2.py3-none-any.whl (55 kB)\n",
            "\u001b[K     |████████████████████████████████| 55 kB 3.5 MB/s \n",
            "\u001b[?25hCollecting cryptography>=1.3.4\n",
            "  Downloading cryptography-36.0.0-cp36-abi3-manylinux_2_24_x86_64.whl (3.6 MB)\n",
            "\u001b[K     |████████████████████████████████| 3.6 MB 45.3 MB/s \n",
            "\u001b[?25hRequirement already satisfied: cffi>=1.12 in /usr/local/lib/python3.7/dist-packages (from cryptography>=1.3.4->urllib3[secure]~=1.26->selenium) (1.15.0)\n",
            "Requirement already satisfied: pycparser in /usr/local/lib/python3.7/dist-packages (from cffi>=1.12->cryptography>=1.3.4->urllib3[secure]~=1.26->selenium) (2.21)\n",
            "Requirement already satisfied: six>=1.5.2 in /usr/local/lib/python3.7/dist-packages (from pyOpenSSL>=0.14->urllib3[secure]~=1.26->selenium) (1.15.0)\n",
            "Collecting h11<1,>=0.9.0\n",
            "  Downloading h11-0.12.0-py3-none-any.whl (54 kB)\n",
            "\u001b[K     |████████████████████████████████| 54 kB 3.4 MB/s \n",
            "\u001b[?25hInstalling collected packages: sniffio, outcome, h11, cryptography, async-generator, wsproto, urllib3, trio, pyOpenSSL, trio-websocket, selenium\n",
            "  Attempting uninstall: urllib3\n",
            "    Found existing installation: urllib3 1.24.3\n",
            "    Uninstalling urllib3-1.24.3:\n",
            "      Successfully uninstalled urllib3-1.24.3\n",
            "\u001b[31mERROR: pip's dependency resolver does not currently take into account all the packages that are installed. This behaviour is the source of the following dependency conflicts.\n",
            "requests 2.23.0 requires urllib3!=1.25.0,!=1.25.1,<1.26,>=1.21.1, but you have urllib3 1.26.7 which is incompatible.\n",
            "datascience 0.10.6 requires folium==0.2.1, but you have folium 0.8.3 which is incompatible.\u001b[0m\n",
            "Successfully installed async-generator-1.10 cryptography-36.0.0 h11-0.12.0 outcome-1.1.0 pyOpenSSL-21.0.0 selenium-4.1.0 sniffio-1.2.0 trio-0.19.0 trio-websocket-0.9.2 urllib3-1.26.7 wsproto-1.0.0\n"
          ]
        }
      ]
    },
    {
      "cell_type": "code",
      "metadata": {
        "id": "5UJ0R2imdyS4"
      },
      "source": [
        "annount1 = 'http://bufs.ac.kr/bbs/board.php?bo_table=notice&sca=%EC%9D%BC%EB%B0%98%EA%B3%B5%EC%A7%80'\n",
        "annount2 = 'http://bufs.ac.kr/bbs/board.php?bo_table=notice&sca=%ED%95%99%EC%82%AC%EA%B3%B5%EC%A7%80'"
      ],
      "execution_count": null,
      "outputs": []
    },
    {
      "cell_type": "code",
      "metadata": {
        "colab": {
          "base_uri": "https://localhost:8080/"
        },
        "id": "g1GhapDQd5Gc",
        "outputId": "d469f762-a792-4976-9742-93bad34e0d4e"
      },
      "source": [
        "chrome_options = webdriver.ChromeOptions()\n",
        "chrome_options.add_argument('--headless')\n",
        "chrome_options.add_argument('--no-sandbox')\n",
        "chrome_options.add_argument('--disable-dev-shm-usage')\n",
        "driver = webdriver.Chrome('chromedriver', chrome_options=chrome_options)\n",
        "driver.get(annount1)\n",
        "content = driver.find_elements_by_xpath(\"//tr[@class]\")\n"
      ],
      "execution_count": null,
      "outputs": [
        {
          "output_type": "stream",
          "name": "stderr",
          "text": [
            "/usr/local/lib/python3.7/dist-packages/ipykernel_launcher.py:5: DeprecationWarning: use options instead of chrome_options\n",
            "  \"\"\"\n",
            "/usr/local/lib/python3.7/dist-packages/ipykernel_launcher.py:7: DeprecationWarning: find_elements_by_* commands are deprecated. Please use find_elements() instead\n",
            "  import sys\n"
          ]
        }
      ]
    },
    {
      "cell_type": "code",
      "metadata": {
        "colab": {
          "base_uri": "https://localhost:8080/"
        },
        "id": "GLLP0uqmb4BL",
        "outputId": "b17ca327-39ff-42f9-df07-1fb10c9da57a"
      },
      "source": [
        "for count,x in enumerate(content):\n",
        "  print(count,x.text)\n",
        "  print('-'*100)"
      ],
      "execution_count": null,
      "outputs": [
        {
          "output_type": "stream",
          "name": "stdout",
          "text": [
            "0 공지 [학생상담센터] 재학생 온라인 폭력예방교육 안내일반공지 2021. 11. 11 978\n",
            "----------------------------------------------------------------------------------------------------\n",
            "1 공지 제1회 BUFS 감사편지 공모전 고맙습니다. 부모님, 감사합니다. 선생님!일반공지 2021. 10. 27 1857\n",
            "----------------------------------------------------------------------------------------------------\n",
            "2 공지 2021-2학기 ~종강까지 셔틀버스 정상운행 안내일반공지 2021. 10. 18 241\n",
            "----------------------------------------------------------------------------------------------------\n",
            "3 925 2021년 2학기 일본외국어전문학교 수업 서포터 모집일반공지 1일 전 127\n",
            "----------------------------------------------------------------------------------------------------\n",
            "4 924 [2021 대학생 창업 아카데미] ‘R 프로그램’을 활용한 창업 비즈니스 데이터 사이언스 교육 안내일반공지 1일 전 93\n",
            "----------------------------------------------------------------------------------------------------\n",
            "5 923 [학생상담센터]12월 심층심리검사 일정 안내일반공지 2일 전 129\n",
            "----------------------------------------------------------------------------------------------------\n",
            "6 922 2021-2학기 하계 필리핀 방중 해외 영어학기제(SAP) “비대면” 화상 영어 과정 지원자 모집일반공지 4일 전 497\n",
            "----------------------------------------------------------------------------------------------------\n",
            "7 921 2021년 도서관 이용자 만족도조사 안내일반공지 5일 전 328\n",
            "----------------------------------------------------------------------------------------------------\n",
            "8 920 페르시아어 언어자격시험 SAMFA 2021 안내일반공지 5일 전 364\n",
            "----------------------------------------------------------------------------------------------------\n",
            "9 919 롯데면세점 스타럽스 3기 데모데이 안내일반공지 5일 전 413\n",
            "----------------------------------------------------------------------------------------------------\n",
            "10 918 제3회 수성빛예술제 자원봉사자 모집일반공지 5일 전 236\n",
            "----------------------------------------------------------------------------------------------------\n",
            "11 917 인천디지털성범죄예방대응센터 서포터즈 1기 모집일반공지 5일 전 142\n",
            "----------------------------------------------------------------------------------------------------\n",
            "12 916 아일랜드 동계 방중 화상 해외 영어학기제(SAP) 과정 지원자 모집일반공지 6일 전 354\n",
            "----------------------------------------------------------------------------------------------------\n",
            "13 915 [학생상담센터] 마음벗 글쓰기 공모전일반공지 6일 전 346\n",
            "----------------------------------------------------------------------------------------------------\n",
            "14 914 2021학년도 학습UCC공모전 ‘위드코로나 시대의 슬기로운 대학생활’일반공지 2021. 11. 16 344\n",
            "----------------------------------------------------------------------------------------------------\n",
            "15 913 2021-2 외성i 이벤트 당첨자 안내일반공지 2021. 11. 16 358\n",
            "----------------------------------------------------------------------------------------------------\n",
            "16 912 2021학년도 자기설계 복수전공 교육모듈 개발 및 수기공모전 수상 결과 안내일반공지 2021. 11. 11 270\n",
            "----------------------------------------------------------------------------------------------------\n",
            "17 911 Office 365 임시사용 방법 안내일반공지 2021. 11. 11 1316\n",
            "----------------------------------------------------------------------------------------------------\n",
            "18 910 BUFS 학습활동 공유 에세이 공모전일반공지 2021. 11. 11 333\n",
            "----------------------------------------------------------------------------------------------------\n",
            "19 909 제12회 BUFS 봉사의 날 “김장나눔” 봉사 진행요원 모집일반공지 2021. 11. 11 594\n",
            "----------------------------------------------------------------------------------------------------\n",
            "20 908 [학생상담센터] 재학생 온라인 폭력예방교육 안내일반공지 2021. 11. 11 978\n",
            "----------------------------------------------------------------------------------------------------\n",
            "21 907 2021년 2학기 일본 하고로모국제대학 수업 참가자 모집 안내일반공지 2021. 11. 11 424\n",
            "----------------------------------------------------------------------------------------------------\n",
            "22 906 일본 토요대학 3+1 교환학생 모집 설명회 안내일반공지 2021. 11. 10 360\n",
            "----------------------------------------------------------------------------------------------------\n",
            "23 905 [REN] 도서관 서평나눔서비스(SNS) '북토크 2021' 운영단 모집일반공지 2021. 11. 10 225\n",
            "----------------------------------------------------------------------------------------------------\n",
            "24 904 2021학년도 BUFS 국제협력단 봉사 활동 계획 공모전(기간 연장)일반공지 2021. 11. 10 300\n",
            "----------------------------------------------------------------------------------------------------\n",
            "25 903 2021학년도 글로벌 테마로드 본선 심사 결과 안내일반공지 2021. 11. 8 227\n",
            "----------------------------------------------------------------------------------------------------\n",
            "26 902 2021-2학기 사회봉사 우수활동사례 공모전일반공지 2021. 11. 8 242\n",
            "----------------------------------------------------------------------------------------------------\n",
            "27 901 다문화 SHOW 페스티벌 공연 진행요원 모집일반공지 2021. 11. 8 417\n",
            "----------------------------------------------------------------------------------------------------\n"
          ]
        }
      ]
    }
  ]
}